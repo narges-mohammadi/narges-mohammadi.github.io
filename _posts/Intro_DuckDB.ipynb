{
  "nbformat": 4,
  "nbformat_minor": 0,
  "metadata": {
    "colab": {
      "provenance": [],
      "collapsed_sections": [
        "rRE98b7__5i2",
        "mywOGWxSBAUG",
        "7gwu-mLzZoUL",
        "dNwKupVcmW7B",
        "3172tlXVXTFr"
      ]
    },
    "kernelspec": {
      "name": "python3",
      "display_name": "Python 3"
    },
    "language_info": {
      "name": "python"
    }
  },
  "cells": [
    {
      "cell_type": "markdown",
      "source": [
        "* This notebook is heavily inspired by the introductory workshop on PostGIS.\n",
        "* The same tasks are done with DuckDB.\n"
      ],
      "metadata": {
        "id": "KzCx1eu8XMBh"
      }
    },
    {
      "cell_type": "code",
      "source": [
        "! pip install duckdb"
      ],
      "metadata": {
        "colab": {
          "base_uri": "https://localhost:8080/"
        },
        "id": "UGQUAvaLXR0P",
        "outputId": "ee4b0f76-b0a0-4832-dde6-d3b6edc02713"
      },
      "execution_count": 1,
      "outputs": [
        {
          "output_type": "stream",
          "name": "stdout",
          "text": [
            "Requirement already satisfied: duckdb in /usr/local/lib/python3.10/dist-packages (0.9.2)\n"
          ]
        }
      ]
    },
    {
      "cell_type": "code",
      "source": [
        "import duckdb\n",
        "import pandas as pd"
      ],
      "metadata": {
        "id": "bI8DOgnNsEPN"
      },
      "execution_count": 2,
      "outputs": []
    },
    {
      "cell_type": "code",
      "source": [
        "con = duckdb.connect()"
      ],
      "metadata": {
        "id": "8cN_IjuXsS2N"
      },
      "execution_count": 3,
      "outputs": []
    },
    {
      "cell_type": "code",
      "source": [
        "con.install_extension('spatial')\n",
        "con.load_extension('spatial')"
      ],
      "metadata": {
        "id": "uOhdc0mX-T6-"
      },
      "execution_count": 4,
      "outputs": []
    },
    {
      "cell_type": "markdown",
      "source": [
        "## Download the data"
      ],
      "metadata": {
        "id": "rRE98b7__5i2"
      }
    },
    {
      "cell_type": "code",
      "source": [
        "!wget http://s3.cleverelephant.ca/postgis-workshop-2020.zip\n"
      ],
      "metadata": {
        "id": "NhigZSbN_cU1",
        "colab": {
          "base_uri": "https://localhost:8080/"
        },
        "outputId": "88b9812e-99de-4c3f-8b66-800d3f18cf7f"
      },
      "execution_count": 5,
      "outputs": [
        {
          "output_type": "stream",
          "name": "stdout",
          "text": [
            "--2024-02-26 12:05:22--  http://s3.cleverelephant.ca/postgis-workshop-2020.zip\n",
            "Resolving s3.cleverelephant.ca (s3.cleverelephant.ca)... 16.182.71.216, 16.182.97.240, 16.182.67.160, ...\n",
            "Connecting to s3.cleverelephant.ca (s3.cleverelephant.ca)|16.182.71.216|:80... connected.\n",
            "HTTP request sent, awaiting response... 200 OK\n",
            "Length: 22547324 (22M) [application/zip]\n",
            "Saving to: ‘postgis-workshop-2020.zip’\n",
            "\n",
            "postgis-workshop-20 100%[===================>]  21.50M  50.9MB/s    in 0.4s    \n",
            "\n",
            "2024-02-26 12:05:23 (50.9 MB/s) - ‘postgis-workshop-2020.zip’ saved [22547324/22547324]\n",
            "\n"
          ]
        }
      ]
    },
    {
      "cell_type": "code",
      "source": [
        "!unzip postgis-workshop-2020.zip"
      ],
      "metadata": {
        "id": "XApoFrm2_cZe",
        "colab": {
          "base_uri": "https://localhost:8080/"
        },
        "outputId": "8e218ce4-52eb-456b-9fd2-275e8b30dfb7"
      },
      "execution_count": 6,
      "outputs": [
        {
          "output_type": "stream",
          "name": "stdout",
          "text": [
            "Archive:  postgis-workshop-2020.zip\n",
            "   creating: postgis-workshop/\n",
            "   creating: postgis-workshop/printing/\n",
            "  inflating: postgis-workshop/printing/nyc_data_dictionary.pdf  \n",
            "  inflating: postgis-workshop/printing/postgis-workshop-exercises.docx  \n",
            "  inflating: postgis-workshop/printing/postgis-workshop-exercises.pdf  \n",
            "  inflating: postgis-workshop/printing/nyc_data_dictionary.docx  \n",
            "   creating: postgis-workshop/data/\n",
            "  inflating: postgis-workshop/data/nyc_homicides.dbf  \n",
            "  inflating: postgis-workshop/data/nyc_neighborhoods.shx  \n",
            "  inflating: postgis-workshop/data/nyc_neighborhoods.shp  \n",
            "  inflating: postgis-workshop/data/nyc_census_blocks.shx  \n",
            "  inflating: postgis-workshop/data/nyc_streets.prj  \n",
            "  inflating: postgis-workshop/data/nyc_subway_stations.dbf  \n",
            "  inflating: postgis-workshop/data/nyc_census_blocks.shp  \n",
            "  inflating: postgis-workshop/data/nyc_subway_stations.shx  \n",
            "  inflating: postgis-workshop/data/nyc_census_blocks.dbf  \n",
            "  inflating: postgis-workshop/data/nyc_subway_stations.shp  \n",
            "  inflating: postgis-workshop/data/nyc_neighborhoods.dbf  \n",
            "  inflating: postgis-workshop/data/nyc_homicides.shx  \n",
            "  inflating: postgis-workshop/data/nyc_census_sociodata.sql  \n",
            "   creating: postgis-workshop/data/2000/\n",
            "  inflating: postgis-workshop/data/2000/nyc_census_blocks_2000.prj  \n",
            "  inflating: postgis-workshop/data/2000/nyc_census_blocks_2000.shx  \n",
            "  inflating: postgis-workshop/data/2000/nyc_census_blocks_2000.shp  \n",
            "  inflating: postgis-workshop/data/2000/nyc_census_blocks_2000.dbf  \n",
            "  inflating: postgis-workshop/data/2000/nyc_census_sociodata_2000.sql  \n",
            "  inflating: postgis-workshop/data/nyc_homicides.shp  \n",
            "  inflating: postgis-workshop/data/nyc_neighborhoods.prj  \n",
            "  inflating: postgis-workshop/data/nyc_streets.shp  \n",
            "  inflating: postgis-workshop/data/nyc_census_blocks.prj  \n",
            "  inflating: postgis-workshop/data/nyc_streets.shx  \n",
            "  inflating: postgis-workshop/data/nyc_subway_stations.prj  \n",
            "  inflating: postgis-workshop/data/nyc_streets.dbf  \n",
            "  inflating: postgis-workshop/data/nyc_data.backup  \n",
            "  inflating: postgis-workshop/data/nyc_homicides.prj  \n"
          ]
        }
      ]
    },
    {
      "cell_type": "code",
      "source": [
        "!ls"
      ],
      "metadata": {
        "colab": {
          "base_uri": "https://localhost:8080/"
        },
        "id": "mQfb-u_s_joI",
        "outputId": "987eb75b-d6a8-43ca-d5c6-74705fcb51f4"
      },
      "execution_count": 7,
      "outputs": [
        {
          "output_type": "stream",
          "name": "stdout",
          "text": [
            "postgis-workshop  postgis-workshop-2020.zip  sample_data\n"
          ]
        }
      ]
    },
    {
      "cell_type": "code",
      "source": [
        "con.sql('SELECT * FROM ST_Read(\"postgis-workshop/data/nyc_neighborhoods.shp\");')"
      ],
      "metadata": {
        "colab": {
          "base_uri": "https://localhost:8080/"
        },
        "id": "cw_moF1u-x2N",
        "outputId": "c0ee4d4e-e583-4dcc-bd2a-8f642f31e46a"
      },
      "execution_count": 8,
      "outputs": [
        {
          "output_type": "execute_result",
          "data": {
            "text/plain": [
              "┌───────────────┬──────────────────────┬───────────────────────────────────────────────────────────────────────────────┐\n",
              "│   BORONAME    │         NAME         │                                     geom                                      │\n",
              "│    varchar    │       varchar        │                                   geometry                                    │\n",
              "├───────────────┼──────────────────────┼───────────────────────────────────────────────────────────────────────────────┤\n",
              "│ Brooklyn      │ Bensonhurst          │ POLYGON ((582771.4257198056 4495167.427365481, 584651.2943549604 4497541.64…  │\n",
              "│ Manhattan     │ East Village         │ POLYGON ((585508.7534890148 4509691.267208001, 586826.3570590394 4508984.18…  │\n",
              "│ Manhattan     │ West Village         │ POLYGON ((583263.2776595836 4509242.626023987, 583276.8199068634 4509378.82…  │\n",
              "│ The Bronx     │ Throggs Neck         │ POLYGON ((597640.0090688139 4520272.719938631, 597647.7457808304 4520617.82…  │\n",
              "│ The Bronx     │ Wakefield-Williams…  │ POLYGON ((595285.2053417757 4525938.79838847, 595348.5452399419 4526158.776…  │\n",
              "│ Queens        │ Auburndale           │ POLYGON ((600973.0089608189 4510338.8574458575, 601002.162100491 4510743.04…  │\n",
              "│ Manhattan     │ Battery Park         │ POLYGON ((583408.1010054761 4508093.1107926965, 583356.0476085746 4507665.1…  │\n",
              "│ Manhattan     │ Carnegie Hill        │ POLYGON ((588501.208387079 4515525.879866604, 588125.0295366715 4514806.769…  │\n",
              "│ Staten Island │ Mariners Harbor      │ POLYGON ((570300.1080794979 4497031.156416456, 570393.8363765916 4497227.42…  │\n",
              "│ Staten Island │ Rossville            │ POLYGON ((564664.9567825551 4489358.426550738, 564771.4570512844 4489415.86…  │\n",
              "│     ·         │     ·                │                                       ·                                       │\n",
              "│     ·         │     ·                │                                       ·                                       │\n",
              "│     ·         │     ·                │                                       ·                                       │\n",
              "│ Manhattan     │ Yorkville            │ POLYGON ((589221.3042189671 4515275.918404947, 589137.4128152014 4515181.03…  │\n",
              "│ Manhattan     │ Chinatown            │ POLYGON ((584212.0263544542 4507715.994306428, 584418.5960554194 4508039.30…  │\n",
              "│ Queens        │ Bayside              │ MULTIPOLYGON (((602775.3139520675 4516699.252888854, 602773.8062540573 4516…  │\n",
              "│ Brooklyn      │ Coney Island         │ MULTIPOLYGON (((586797.2142308942 4491782.743200868, 586797.6993674854 4491…  │\n",
              "│ Queens        │ Corona               │ POLYGON ((595483.2191909261 4513816.729664179, 595482.9622063976 4513818.69…  │\n",
              "│ Brooklyn      │ Red Hook             │ MULTIPOLYGON (((584212.898102789 4502321.474446659, 584306.8204918649 45023…  │\n",
              "│ Queens        │ Douglastown-Little…  │ POLYGON ((605082.2876993549 4513540.148431633, 605091.565767156 4513533.146…  │\n",
              "│ Queens        │ Whitestone           │ MULTIPOLYGON (((600138.4932375996 4516909.499424748, 600138.4432112409 4516…  │\n",
              "│ Queens        │ Steinway             │ MULTIPOLYGON (((593231.5525230656 4515088.539060092, 593306.6081032692 4515…  │\n",
              "│ Staten Island │ Rosebank             │ POLYGON ((579051.0303273386 4495284.647006003, 579062.1215490546 4495347.57…  │\n",
              "├───────────────┴──────────────────────┴───────────────────────────────────────────────────────────────────────────────┤\n",
              "│ 129 rows (20 shown)                                                                                        3 columns │\n",
              "└──────────────────────────────────────────────────────────────────────────────────────────────────────────────────────┘"
            ]
          },
          "metadata": {},
          "execution_count": 8
        }
      ]
    },
    {
      "cell_type": "code",
      "source": [
        "con.sql('CREATE TABLE IF NOT EXISTS nyc_neighborhoods AS SELECT * FROM ST_Read(\"postgis-workshop/data/nyc_neighborhoods.shp\");')"
      ],
      "metadata": {
        "id": "O-WMtr4rBNz9"
      },
      "execution_count": 9,
      "outputs": []
    },
    {
      "cell_type": "markdown",
      "source": [
        "## Simple SQL"
      ],
      "metadata": {
        "id": "mywOGWxSBAUG"
      }
    },
    {
      "cell_type": "code",
      "source": [
        "con.sql('SELECT * FROM nyc_neighborhoods;')"
      ],
      "metadata": {
        "colab": {
          "base_uri": "https://localhost:8080/"
        },
        "id": "bil4XtB3BAZu",
        "outputId": "d0be8c9c-9cfd-46ed-a254-32381c965760"
      },
      "execution_count": 10,
      "outputs": [
        {
          "output_type": "execute_result",
          "data": {
            "text/plain": [
              "┌───────────────┬──────────────────────┬───────────────────────────────────────────────────────────────────────────────┐\n",
              "│   BORONAME    │         NAME         │                                     geom                                      │\n",
              "│    varchar    │       varchar        │                                   geometry                                    │\n",
              "├───────────────┼──────────────────────┼───────────────────────────────────────────────────────────────────────────────┤\n",
              "│ Brooklyn      │ Bensonhurst          │ POLYGON ((582771.4257198056 4495167.427365481, 584651.2943549604 4497541.64…  │\n",
              "│ Manhattan     │ East Village         │ POLYGON ((585508.7534890148 4509691.267208001, 586826.3570590394 4508984.18…  │\n",
              "│ Manhattan     │ West Village         │ POLYGON ((583263.2776595836 4509242.626023987, 583276.8199068634 4509378.82…  │\n",
              "│ The Bronx     │ Throggs Neck         │ POLYGON ((597640.0090688139 4520272.719938631, 597647.7457808304 4520617.82…  │\n",
              "│ The Bronx     │ Wakefield-Williams…  │ POLYGON ((595285.2053417757 4525938.79838847, 595348.5452399419 4526158.776…  │\n",
              "│ Queens        │ Auburndale           │ POLYGON ((600973.0089608189 4510338.8574458575, 601002.162100491 4510743.04…  │\n",
              "│ Manhattan     │ Battery Park         │ POLYGON ((583408.1010054761 4508093.1107926965, 583356.0476085746 4507665.1…  │\n",
              "│ Manhattan     │ Carnegie Hill        │ POLYGON ((588501.208387079 4515525.879866604, 588125.0295366715 4514806.769…  │\n",
              "│ Staten Island │ Mariners Harbor      │ POLYGON ((570300.1080794979 4497031.156416456, 570393.8363765916 4497227.42…  │\n",
              "│ Staten Island │ Rossville            │ POLYGON ((564664.9567825551 4489358.426550738, 564771.4570512844 4489415.86…  │\n",
              "│     ·         │     ·                │                                       ·                                       │\n",
              "│     ·         │     ·                │                                       ·                                       │\n",
              "│     ·         │     ·                │                                       ·                                       │\n",
              "│ Manhattan     │ Yorkville            │ POLYGON ((589221.3042189671 4515275.918404947, 589137.4128152014 4515181.03…  │\n",
              "│ Manhattan     │ Chinatown            │ POLYGON ((584212.0263544542 4507715.994306428, 584418.5960554194 4508039.30…  │\n",
              "│ Queens        │ Bayside              │ MULTIPOLYGON (((602775.3139520675 4516699.252888854, 602773.8062540573 4516…  │\n",
              "│ Brooklyn      │ Coney Island         │ MULTIPOLYGON (((586797.2142308942 4491782.743200868, 586797.6993674854 4491…  │\n",
              "│ Queens        │ Corona               │ POLYGON ((595483.2191909261 4513816.729664179, 595482.9622063976 4513818.69…  │\n",
              "│ Brooklyn      │ Red Hook             │ MULTIPOLYGON (((584212.898102789 4502321.474446659, 584306.8204918649 45023…  │\n",
              "│ Queens        │ Douglastown-Little…  │ POLYGON ((605082.2876993549 4513540.148431633, 605091.565767156 4513533.146…  │\n",
              "│ Queens        │ Whitestone           │ MULTIPOLYGON (((600138.4932375996 4516909.499424748, 600138.4432112409 4516…  │\n",
              "│ Queens        │ Steinway             │ MULTIPOLYGON (((593231.5525230656 4515088.539060092, 593306.6081032692 4515…  │\n",
              "│ Staten Island │ Rosebank             │ POLYGON ((579051.0303273386 4495284.647006003, 579062.1215490546 4495347.57…  │\n",
              "├───────────────┴──────────────────────┴───────────────────────────────────────────────────────────────────────────────┤\n",
              "│ 129 rows (20 shown)                                                                                        3 columns │\n",
              "└──────────────────────────────────────────────────────────────────────────────────────────────────────────────────────┘"
            ]
          },
          "metadata": {},
          "execution_count": 10
        }
      ]
    },
    {
      "cell_type": "code",
      "source": [
        "con.sql('SELECT name FROM nyc_neighborhoods;')"
      ],
      "metadata": {
        "colab": {
          "base_uri": "https://localhost:8080/"
        },
        "id": "6JUqON8pK3TW",
        "outputId": "6fb6e188-1052-43de-9c1d-2ee1647d1cc9"
      },
      "execution_count": 11,
      "outputs": [
        {
          "output_type": "execute_result",
          "data": {
            "text/plain": [
              "┌──────────────────────────┐\n",
              "│           NAME           │\n",
              "│         varchar          │\n",
              "├──────────────────────────┤\n",
              "│ Bensonhurst              │\n",
              "│ East Village             │\n",
              "│ West Village             │\n",
              "│ Throggs Neck             │\n",
              "│ Wakefield-Williamsbridge │\n",
              "│ Auburndale               │\n",
              "│ Battery Park             │\n",
              "│ Carnegie Hill            │\n",
              "│ Mariners Harbor          │\n",
              "│ Rossville                │\n",
              "│     ·                    │\n",
              "│     ·                    │\n",
              "│     ·                    │\n",
              "│ Yorkville                │\n",
              "│ Chinatown                │\n",
              "│ Bayside                  │\n",
              "│ Coney Island             │\n",
              "│ Corona                   │\n",
              "│ Red Hook                 │\n",
              "│ Douglastown-Little Neck  │\n",
              "│ Whitestone               │\n",
              "│ Steinway                 │\n",
              "│ Rosebank                 │\n",
              "├──────────────────────────┤\n",
              "│   129 rows (20 shown)    │\n",
              "└──────────────────────────┘"
            ]
          },
          "metadata": {},
          "execution_count": 11
        }
      ]
    },
    {
      "cell_type": "code",
      "source": [
        "con.sql(\"SELECT name, ST_TRANSFORM(geom,'EPSG:26918','EPSG:4326') FROM nyc_neighborhoods;\")\n"
      ],
      "metadata": {
        "colab": {
          "base_uri": "https://localhost:8080/"
        },
        "id": "mue_FNJlYvx2",
        "outputId": "5c9457e2-a00b-4edb-94e5-b5e56c15e9b0"
      },
      "execution_count": 12,
      "outputs": [
        {
          "output_type": "execute_result",
          "data": {
            "text/plain": [
              "┌──────────────────────┬───────────────────────────────────────────────────────────────────────────────────────────────┐\n",
              "│         NAME         │                         st_transform(geom, 'EPSG:26918', 'EPSG:4326')                         │\n",
              "│       varchar        │                                           geometry                                            │\n",
              "├──────────────────────┼───────────────────────────────────────────────────────────────────────────────────────────────┤\n",
              "│ Bensonhurst          │ POLYGON ((40.603177255343375 -74.02166685535772, 40.624372593164594 -73.99913147363611, 40.…  │\n",
              "│ East Village         │ POLYGON ((40.73372002435467 -73.9873400213324, 40.727213268064766 -73.9718363715135, 40.721…  │\n",
              "│ West Village         │ POLYGON ((40.729909197333484 -74.01398852243662, 40.731134619728365 -74.01381006286464, 40.…  │\n",
              "│ Throggs Neck         │ POLYGON ((40.827674726653015 -73.84204449268826, 40.830782040132526 -73.84189867432876, 40.…  │\n",
              "│ Wakefield-Williams…  │ POLYGON ((40.878984357327354 -73.86909835892438, 40.88095825479006 -73.86831299466589, 40.8…  │\n",
              "│ Auburndale           │ POLYGON ((40.737800825193474 -73.8041311108687, 40.74143762207188 -73.8037206850871, 40.747…  │\n",
              "│ Battery Park         │ POLYGON ((40.719540473403555 -74.01242682766723, 40.71569090909435 -74.01309999999982, 40.7…  │\n",
              "│ Carnegie Hill        │ POLYGON ((40.78595665284569 -73.95108078565387, 40.77952000911529 -73.95564003237227, 40.78…  │\n",
              "│ Mariners Harbor      │ POLYGON ((40.621119995798594 -74.168849994841, 40.6228799879877 -74.1677200221836, 40.62723…  │\n",
              "│ Rossville            │ POLYGON ((40.55246363625957 -74.23625454561993, 40.55297272805687 -74.23499090889992, 40.55…  │\n",
              "│     ·                │                                               ·                                               │\n",
              "│     ·                │                                               ·                                               │\n",
              "│     ·                │                                               ·                                               │\n",
              "│ Yorkville            │ POLYGON ((40.7836273516971 -73.94258327845486, 40.78278181818539 -73.94359090909067, 40.785…  │\n",
              "│ Chinatown            │ POLYGON ((40.71606184385847 -74.00296019678281, 40.718952888926566 -74.00047128061712, 40.7…  │\n",
              "│ Bayside              │ MULTIPOLYGON (((40.79486303864095 -73.78174435448365, 40.794885806020595 -73.78176180947467…  │\n",
              "│ Coney Island         │ MULTIPOLYGON (((40.57227710800682 -73.97455615126611, 40.572278255014275 -73.9745504023258,…  │\n",
              "│ Corona               │ POLYGON ((40.76978083335069 -73.86860581336617, 40.76979852067137 -73.86860855831928, 40.76…  │\n",
              "│ Red Hook             │ MULTIPOLYGON (((40.667471393754646 -74.00367396642184, 40.66781347939834 -74.0025576869529,…  │\n",
              "│ Douglastown-Little…  │ POLYGON ((40.76611879344588 -73.75493600167012, 40.766054544524884 -73.75482727272683, 40.7…  │\n",
              "│ Whitestone           │ MULTIPOLYGON (((40.797082383634994 -73.8129599183423, 40.79708758238439 -73.81296041872561,…  │\n",
              "│ Steinway             │ MULTIPOLYGON (((40.781494374848094 -73.89509156091411, 40.782179436469995 -73.8941907136972…  │\n",
              "│ Rosebank             │ POLYGON ((40.604597206467325 -74.06562040674635, 40.6051629552721 -74.06548143037406, 40.60…  │\n",
              "├──────────────────────┴───────────────────────────────────────────────────────────────────────────────────────────────┤\n",
              "│ 129 rows (20 shown)                                                                                        2 columns │\n",
              "└──────────────────────────────────────────────────────────────────────────────────────────────────────────────────────┘"
            ]
          },
          "metadata": {},
          "execution_count": 12
        }
      ]
    },
    {
      "cell_type": "code",
      "source": [
        "con.sql(\"SELECT name FROM nyc_neighborhoods WHERE boroname  = 'Brooklyn';\")"
      ],
      "metadata": {
        "colab": {
          "base_uri": "https://localhost:8080/"
        },
        "id": "id-K3XoHMpv3",
        "outputId": "162c4cac-cef4-4932-80f7-2911f09099f5"
      },
      "execution_count": 13,
      "outputs": [
        {
          "output_type": "execute_result",
          "data": {
            "text/plain": [
              "┌──────────────────────────┐\n",
              "│           NAME           │\n",
              "│         varchar          │\n",
              "├──────────────────────────┤\n",
              "│ Bensonhurst              │\n",
              "│ Bay Ridge                │\n",
              "│ Boerum Hill              │\n",
              "│ Cobble Hill              │\n",
              "│ Downtown                 │\n",
              "│ Sunset Park              │\n",
              "│ Borough Park             │\n",
              "│ East Brooklyn            │\n",
              "│ Flatbush                 │\n",
              "│ Park Slope               │\n",
              "│ Williamsburg             │\n",
              "│ Canarsie                 │\n",
              "│ Greenwood                │\n",
              "│ Gravesend-Sheepshead Bay │\n",
              "│ Dyker Heights            │\n",
              "│ Brownsville              │\n",
              "│ Bushwick                 │\n",
              "│ Fort Green               │\n",
              "│ Mapleton-Flatlands       │\n",
              "│ Bedford-Stuyvesant       │\n",
              "│ Carroll Gardens          │\n",
              "│ Coney Island             │\n",
              "│ Red Hook                 │\n",
              "├──────────────────────────┤\n",
              "│         23 rows          │\n",
              "└──────────────────────────┘"
            ]
          },
          "metadata": {},
          "execution_count": 13
        }
      ]
    },
    {
      "cell_type": "code",
      "source": [
        "# Question: How many neighborhoods are in Brooklyn?\n",
        "con.sql(\"SELECT COUNT(*) FROM nyc_neighborhoods WHERE boroname  = 'Brooklyn';\")"
      ],
      "metadata": {
        "id": "SvtcYWFq-T_9",
        "colab": {
          "base_uri": "https://localhost:8080/"
        },
        "outputId": "3c1a1665-7694-4489-c5ce-ead990b06a37"
      },
      "execution_count": 14,
      "outputs": [
        {
          "output_type": "execute_result",
          "data": {
            "text/plain": [
              "┌──────────────┐\n",
              "│ count_star() │\n",
              "│    int64     │\n",
              "├──────────────┤\n",
              "│           23 │\n",
              "└──────────────┘"
            ]
          },
          "metadata": {},
          "execution_count": 14
        }
      ]
    },
    {
      "cell_type": "code",
      "source": [
        "# What is the number of letters in the names of all the  neighborhoods in Brooklyn?\n",
        "con.sql(\"SELECT length(name) FROM nyc_neighborhoods WHERE boroname  = 'Brooklyn';\")"
      ],
      "metadata": {
        "id": "evQuD8No-UDA",
        "colab": {
          "base_uri": "https://localhost:8080/"
        },
        "outputId": "6a5e01c3-3386-4980-8c1b-3b4b98bbaef9"
      },
      "execution_count": 15,
      "outputs": [
        {
          "output_type": "execute_result",
          "data": {
            "text/plain": [
              "┌────────────────┐\n",
              "│ length(\"name\") │\n",
              "│     int64      │\n",
              "├────────────────┤\n",
              "│             11 │\n",
              "│              9 │\n",
              "│             11 │\n",
              "│             11 │\n",
              "│              8 │\n",
              "│             11 │\n",
              "│             12 │\n",
              "│             13 │\n",
              "│              8 │\n",
              "│             10 │\n",
              "│             12 │\n",
              "│              8 │\n",
              "│              9 │\n",
              "│             24 │\n",
              "│             13 │\n",
              "│             11 │\n",
              "│              8 │\n",
              "│             10 │\n",
              "│             18 │\n",
              "│             18 │\n",
              "│             15 │\n",
              "│             12 │\n",
              "│              8 │\n",
              "├────────────────┤\n",
              "│    23 rows     │\n",
              "└────────────────┘"
            ]
          },
          "metadata": {},
          "execution_count": 15
        }
      ]
    },
    {
      "cell_type": "code",
      "source": [
        "# What is the average number of letters and standard deviation of number of letters in the names of all the neighborhoods in Brooklyn?\n",
        "con.sql(\"SELECT avg(length(name)), stddev_pop(length(name)) FROM nyc_neighborhoods WHERE boroname  = 'Brooklyn';\")"
      ],
      "metadata": {
        "id": "sDzkohMmAPYm",
        "colab": {
          "base_uri": "https://localhost:8080/"
        },
        "outputId": "fdcaf1cc-4114-4af9-b7c5-5989ec214c1d"
      },
      "execution_count": 16,
      "outputs": [
        {
          "output_type": "execute_result",
          "data": {
            "text/plain": [
              "┌─────────────────────┬────────────────────────────┐\n",
              "│ avg(length(\"name\")) │ stddev_pop(length(\"name\")) │\n",
              "│       double        │           double           │\n",
              "├─────────────────────┼────────────────────────────┤\n",
              "│   11.73913043478261 │         3.8246044558694345 │\n",
              "└─────────────────────┴────────────────────────────┘"
            ]
          },
          "metadata": {},
          "execution_count": 16
        }
      ]
    },
    {
      "cell_type": "code",
      "source": [
        "#What is the average number of letters in the names of all the neighborhoods in New York City, reported by borough?\n",
        "con.sql(\"SELECT avg(length(name)),BORONAME  FROM nyc_neighborhoods GROUP BY BORONAME;\")"
      ],
      "metadata": {
        "colab": {
          "base_uri": "https://localhost:8080/"
        },
        "id": "EugaKB7uOqnv",
        "outputId": "5fed111d-7b3b-4dff-fa58-d131bc5376fa"
      },
      "execution_count": 17,
      "outputs": [
        {
          "output_type": "execute_result",
          "data": {
            "text/plain": [
              "┌─────────────────────┬───────────────┐\n",
              "│ avg(length(\"name\")) │   BORONAME    │\n",
              "│       double        │    varchar    │\n",
              "├─────────────────────┼───────────────┤\n",
              "│   11.73913043478261 │ Brooklyn      │\n",
              "│  12.041666666666666 │ The Bronx     │\n",
              "│  11.666666666666666 │ Queens        │\n",
              "│  11.821428571428571 │ Manhattan     │\n",
              "│  12.291666666666666 │ Staten Island │\n",
              "└─────────────────────┴───────────────┘"
            ]
          },
          "metadata": {},
          "execution_count": 17
        }
      ]
    },
    {
      "cell_type": "code",
      "source": [
        "# How many records are in the nyc_streets table?\n",
        "con.sql('CREATE TABLE IF NOT EXISTS nyc_streets AS SELECT * FROM ST_Read(\"postgis-workshop/data/nyc_streets.shp\");')\n",
        "con.sql(\"SELECT COUNT(*)  FROM nyc_streets;\")"
      ],
      "metadata": {
        "colab": {
          "base_uri": "https://localhost:8080/"
        },
        "id": "gLcCClt0Oqq0",
        "outputId": "02ec29c7-a4fd-4d08-9069-0fb3bcb9ab9a"
      },
      "execution_count": 18,
      "outputs": [
        {
          "output_type": "execute_result",
          "data": {
            "text/plain": [
              "┌──────────────┐\n",
              "│ count_star() │\n",
              "│    int64     │\n",
              "├──────────────┤\n",
              "│        19090 │\n",
              "└──────────────┘"
            ]
          },
          "metadata": {},
          "execution_count": 18
        }
      ]
    },
    {
      "cell_type": "code",
      "source": [
        "con.sql(\"SELECT *  FROM nyc_streets;\")"
      ],
      "metadata": {
        "colab": {
          "base_uri": "https://localhost:8080/"
        },
        "id": "tmy8yNPhPwwr",
        "outputId": "7e34ebc0-821c-46b5-8f78-a72eba694381"
      },
      "execution_count": 19,
      "outputs": [
        {
          "output_type": "execute_result",
          "data": {
            "text/plain": [
              "┌───────┬─────────────────┬─────────┬───────────────┬──────────────────────────────────────────────────────────────────┐\n",
              "│  ID   │      NAME       │ ONEWAY  │     TYPE      │                               geom                               │\n",
              "│ int64 │     varchar     │ varchar │    varchar    │                             geometry                             │\n",
              "├───────┼─────────────────┼─────────┼───────────────┼──────────────────────────────────────────────────────────────────┤\n",
              "│     1 │ Shore Pky S     │ NULL    │ residential   │ LINESTRING (586785.4767897038 4492901.0014554765, 586898.23200…  │\n",
              "│     2 │ NULL            │ NULL    │ footway       │ LINESTRING (586645.0073625665 4504977.750360583, 586664.224899…  │\n",
              "│     3 │ Avenue O        │ NULL    │ residential   │ LINESTRING (586750.3019977848 4496109.72213903, 586837.3726880…  │\n",
              "│     4 │ Walsh Ct        │ NULL    │ residential   │ LINESTRING (586728.695515043 4497971.05313857, 586886.35822565…  │\n",
              "│     5 │ NULL            │ NULL    │ motorway_link │ LINESTRING (586587.0531467082 4510088.250402982, 586641.733985…  │\n",
              "│     6 │ Avenue Z        │ NULL    │ residential   │ LINESTRING (586792.1590947693 4493279.321965924, 586978.533576…  │\n",
              "│     7 │ Dank Ct         │ NULL    │ residential   │ LINESTRING (586794.7541421958 4493361.728529104, 586966.095369…  │\n",
              "│     8 │ Cumberland Walk │ NULL    │ footway       │ LINESTRING (586657.467661773 4505324.904212245, 586692.4890414…  │\n",
              "│     9 │ Cumberland Walk │ NULL    │ footway       │ LINESTRING (586670.7115426222 4505521.566761277, 586667.914896…  │\n",
              "│    10 │ NULL            │ NULL    │ residential   │ LINESTRING (586598.3257999844 4510424.446496345, 586602.313725…  │\n",
              "│     · │  ·              │  ·      │      ·        │                                ·                                 │\n",
              "│     · │  ·              │  ·      │      ·        │                                ·                                 │\n",
              "│     · │  ·              │  ·      │      ·        │                                ·                                 │\n",
              "│  9997 │ 90th Ave        │ NULL    │ residential   │ LINESTRING (602494.035355788 4507244.7209426155, 602605.227936…  │\n",
              "│  9998 │ 133rd Ave       │ NULL    │ residential   │ LINESTRING (602562.1305106754 4502705.253115755, 602696.344249…  │\n",
              "│  9999 │ Aberdeen Rd     │ NULL    │ residential   │ LINESTRING (602525.5525041247 4508387.533295875, 602521.719335…  │\n",
              "│ 10000 │ Bonnie Ln       │ NULL    │ residential   │ LINESTRING (602387.8547830804 4515676.392811145, 602386.229626…  │\n",
              "│ 10001 │ Phroane Ave     │ NULL    │ residential   │ LINESTRING (602535.6637386277 4505062.916847304, 602683.937529…  │\n",
              "│ 10002 │ 186th Ln        │ NULL    │ residential   │ LINESTRING (602538.8474735785 4510144.199364001, 602500.572119…  │\n",
              "│ 10003 │ NULL            │ NULL    │ motorway_link │ LINESTRING (602611.2730119578 4499970.983219131, 602631.903262…  │\n",
              "│ 10004 │ 23rd Rd         │ NULL    │ residential   │ LINESTRING (602407.4465591786 4514766.104999339, 602439.843192…  │\n",
              "│ 10005 │ JFK EXPWY       │ NULL    │ motorway      │ LINESTRING (602612.036052657 4500020.489844459, 602648.2995835…  │\n",
              "│ 10006 │ 116th Ave       │ NULL    │ residential   │ LINESTRING (602550.5036532616 4504502.428303754, 602552.862455…  │\n",
              "├───────┴─────────────────┴─────────┴───────────────┴──────────────────────────────────────────────────────────────────┤\n",
              "│ ? rows (>9999 rows, 20 shown)                                                                              5 columns │\n",
              "└──────────────────────────────────────────────────────────────────────────────────────────────────────────────────────┘"
            ]
          },
          "metadata": {},
          "execution_count": 19
        }
      ]
    },
    {
      "cell_type": "code",
      "source": [
        "con.sql(\"SELECT name, starts_with(name, 'B')  FROM nyc_streets;\")"
      ],
      "metadata": {
        "colab": {
          "base_uri": "https://localhost:8080/"
        },
        "id": "ArHeMf-LQMqY",
        "outputId": "535e0c8e-55bd-47e6-e04f-1ce92342c2c9"
      },
      "execution_count": 20,
      "outputs": [
        {
          "output_type": "execute_result",
          "data": {
            "text/plain": [
              "┌─────────────────┬──────────────────────────┐\n",
              "│      NAME       │ starts_with(\"name\", 'B') │\n",
              "│     varchar     │         boolean          │\n",
              "├─────────────────┼──────────────────────────┤\n",
              "│ Shore Pky S     │ false                    │\n",
              "│ NULL            │ NULL                     │\n",
              "│ Avenue O        │ false                    │\n",
              "│ Walsh Ct        │ false                    │\n",
              "│ NULL            │ NULL                     │\n",
              "│ Avenue Z        │ false                    │\n",
              "│ Dank Ct         │ false                    │\n",
              "│ Cumberland Walk │ false                    │\n",
              "│ Cumberland Walk │ false                    │\n",
              "│ NULL            │ NULL                     │\n",
              "│  ·              │  ·                       │\n",
              "│  ·              │  ·                       │\n",
              "│  ·              │  ·                       │\n",
              "│ 90th Ave        │ false                    │\n",
              "│ 133rd Ave       │ false                    │\n",
              "│ Aberdeen Rd     │ false                    │\n",
              "│ Bonnie Ln       │ true                     │\n",
              "│ Phroane Ave     │ false                    │\n",
              "│ 186th Ln        │ false                    │\n",
              "│ NULL            │ NULL                     │\n",
              "│ 23rd Rd         │ false                    │\n",
              "│ JFK EXPWY       │ false                    │\n",
              "│ 116th Ave       │ false                    │\n",
              "├─────────────────┴──────────────────────────┤\n",
              "│ ? rows (>9999 rows, 20 shown)    2 columns │\n",
              "└────────────────────────────────────────────┘"
            ]
          },
          "metadata": {},
          "execution_count": 20
        }
      ]
    },
    {
      "cell_type": "code",
      "source": [
        "# How many streets in NYC start with ‘B’?\n",
        "con.sql(\"SELECT COUNT(*)  FROM nyc_streets WHERE starts_with(name, 'B') = true;\")"
      ],
      "metadata": {
        "id": "gTMkDu8TAPbW",
        "colab": {
          "base_uri": "https://localhost:8080/"
        },
        "outputId": "edce640a-ea59-4875-b2f1-ce976fa447f3"
      },
      "execution_count": 21,
      "outputs": [
        {
          "output_type": "execute_result",
          "data": {
            "text/plain": [
              "┌──────────────┐\n",
              "│ count_star() │\n",
              "│    int64     │\n",
              "├──────────────┤\n",
              "│         1282 │\n",
              "└──────────────┘"
            ]
          },
          "metadata": {},
          "execution_count": 21
        }
      ]
    },
    {
      "cell_type": "code",
      "source": [
        "# How many streets in NYC start with ‘B’? (second method)\n",
        "con.sql(\"SELECT Count(*)  FROM nyc_streets WHERE name LIKE 'B%';\")"
      ],
      "metadata": {
        "colab": {
          "base_uri": "https://localhost:8080/"
        },
        "id": "4I_IF5ioQdnJ",
        "outputId": "fac796da-8049-486c-8661-acf8171c021a"
      },
      "execution_count": 22,
      "outputs": [
        {
          "output_type": "execute_result",
          "data": {
            "text/plain": [
              "┌──────────────┐\n",
              "│ count_star() │\n",
              "│    int64     │\n",
              "├──────────────┤\n",
              "│         1282 │\n",
              "└──────────────┘"
            ]
          },
          "metadata": {},
          "execution_count": 22
        }
      ]
    },
    {
      "cell_type": "code",
      "source": [
        "# Population of NYC; reading shapefile into table & printing the first rows of the table\n",
        "con.sql('CREATE TABLE IF NOT EXISTS nyc_census_blocks AS SELECT * FROM ST_Read(\"postgis-workshop/data/nyc_census_blocks.shp\");')\n",
        "con.sql(\"SELECT * FROM nyc_census_blocks LIMIT 5;\")"
      ],
      "metadata": {
        "colab": {
          "base_uri": "https://localhost:8080/"
        },
        "id": "7P8QxrFYRLqc",
        "outputId": "171d216e-92a0-4608-94fb-ab46cdc9ca25"
      },
      "execution_count": 23,
      "outputs": [
        {
          "output_type": "execute_result",
          "data": {
            "text/plain": [
              "┌─────────────────┬────────────┬────────────┬───┬────────────┬────────────┬───────────────┬──────────────────────┐\n",
              "│      BLKID      │ POPN_TOTAL │ POPN_WHITE │ … │ POPN_ASIAN │ POPN_OTHER │   BORONAME    │         geom         │\n",
              "│     varchar     │   int64    │   int64    │   │   int64    │   int64    │    varchar    │       geometry       │\n",
              "├─────────────────┼────────────┼────────────┼───┼────────────┼────────────┼───────────────┼──────────────────────┤\n",
              "│ 360850009001000 │         97 │         51 │ … │          5 │          8 │ Staten Island │ POLYGON ((577856.5…  │\n",
              "│ 360850020011000 │         66 │         52 │ … │          7 │          5 │ Staten Island │ POLYGON ((578620.7…  │\n",
              "│ 360850040001000 │         62 │         14 │ … │         25 │          3 │ Staten Island │ POLYGON ((577227.2…  │\n",
              "│ 360850074001000 │        137 │         92 │ … │         13 │         20 │ Staten Island │ POLYGON ((579037.0…  │\n",
              "│ 360850096011000 │        289 │        230 │ … │         32 │         27 │ Staten Island │ POLYGON ((577652.4…  │\n",
              "├─────────────────┴────────────┴────────────┴───┴────────────┴────────────┴───────────────┴──────────────────────┤\n",
              "│ 5 rows                                                                                     9 columns (7 shown) │\n",
              "└────────────────────────────────────────────────────────────────────────────────────────────────────────────────┘"
            ]
          },
          "metadata": {},
          "execution_count": 23
        }
      ]
    },
    {
      "cell_type": "code",
      "source": [
        "# What is the population of NYC?\n",
        "con.sql(\"SELECT sum(POPN_TOTAL) AS population FROM nyc_census_blocks;\")"
      ],
      "metadata": {
        "colab": {
          "base_uri": "https://localhost:8080/"
        },
        "id": "6nzgIFA3RpEx",
        "outputId": "d79c7e4b-51fa-4972-9633-e442f5b032ff"
      },
      "execution_count": 24,
      "outputs": [
        {
          "output_type": "execute_result",
          "data": {
            "text/plain": [
              "┌────────────┐\n",
              "│ population │\n",
              "│   int128   │\n",
              "├────────────┤\n",
              "│    8174377 │\n",
              "└────────────┘"
            ]
          },
          "metadata": {},
          "execution_count": 24
        }
      ]
    },
    {
      "cell_type": "code",
      "source": [
        "# What is the population of ‘The Bronx’?\n",
        "con.sql(\"SELECT sum(POPN_TOTAL) FROM nyc_census_blocks WHERE BORONAME = 'The Bronx';\")\n"
      ],
      "metadata": {
        "colab": {
          "base_uri": "https://localhost:8080/"
        },
        "id": "otV4PXBtQdrF",
        "outputId": "9994abc8-839a-483d-db07-609d5d90edb8"
      },
      "execution_count": 25,
      "outputs": [
        {
          "output_type": "execute_result",
          "data": {
            "text/plain": [
              "┌─────────────────┐\n",
              "│ sum(POPN_TOTAL) │\n",
              "│     int128      │\n",
              "├─────────────────┤\n",
              "│         1384453 │\n",
              "└─────────────────┘"
            ]
          },
          "metadata": {},
          "execution_count": 25
        }
      ]
    },
    {
      "cell_type": "code",
      "source": [
        "# How many neighborhoods are in each borough?\n",
        "con.sql('SELECT COUNT(*),BORONAME  FROM nyc_neighborhoods GROUP BY BORONAME;')"
      ],
      "metadata": {
        "id": "v7VbOR_RAPd1",
        "colab": {
          "base_uri": "https://localhost:8080/"
        },
        "outputId": "08974488-7410-4d8f-bc2c-ebde69888c2f"
      },
      "execution_count": 26,
      "outputs": [
        {
          "output_type": "execute_result",
          "data": {
            "text/plain": [
              "┌──────────────┬───────────────┐\n",
              "│ count_star() │   BORONAME    │\n",
              "│    int64     │    varchar    │\n",
              "├──────────────┼───────────────┤\n",
              "│           23 │ Brooklyn      │\n",
              "│           24 │ The Bronx     │\n",
              "│           30 │ Queens        │\n",
              "│           28 │ Manhattan     │\n",
              "│           24 │ Staten Island │\n",
              "└──────────────┴───────────────┘"
            ]
          },
          "metadata": {},
          "execution_count": 26
        }
      ]
    },
    {
      "cell_type": "code",
      "source": [
        "# For each borough in NYC, what is percentage of the population is “white”?\n",
        "con.sql(\"SELECT BORONAME , 100.0 * sum(POPN_WHITE)/sum(POPN_TOTAL) FROM nyc_census_blocks GROUP BY BORONAME;\")"
      ],
      "metadata": {
        "colab": {
          "base_uri": "https://localhost:8080/"
        },
        "id": "1KbD9a3QS8qi",
        "outputId": "d1e67f3d-473d-45a2-e40f-a430a95543b4"
      },
      "execution_count": 27,
      "outputs": [
        {
          "output_type": "execute_result",
          "data": {
            "text/plain": [
              "┌───────────────┬───────────────────────────────────────────────┐\n",
              "│   BORONAME    │ ((100.0 * sum(POPN_WHITE)) / sum(POPN_TOTAL)) │\n",
              "│    varchar    │                    double                     │\n",
              "├───────────────┼───────────────────────────────────────────────┤\n",
              "│ Brooklyn      │                             42.80117379326865 │\n",
              "│ The Bronx     │                            27.905822732877173 │\n",
              "│ Queens        │                             39.72207739459101 │\n",
              "│ Staten Island │                              72.8942034860154 │\n",
              "│ Manhattan     │                             57.44930394804628 │\n",
              "└───────────────┴───────────────────────────────────────────────┘"
            ]
          },
          "metadata": {},
          "execution_count": 27
        }
      ]
    },
    {
      "cell_type": "markdown",
      "source": [
        "## Geometries"
      ],
      "metadata": {
        "id": "7gwu-mLzZoUL"
      }
    },
    {
      "cell_type": "code",
      "source": [
        "# What is the area of the ‘West Village’ neighborhood?\n",
        "con.sql(\"SELECT ST_Area(geom) FROM nyc_neighborhoods WHERE name = 'West Village';\")"
      ],
      "metadata": {
        "colab": {
          "base_uri": "https://localhost:8080/"
        },
        "id": "nF_5GMkrZoed",
        "outputId": "a79d9bc7-ef21-4281-a06b-7b8fa23161bf"
      },
      "execution_count": 28,
      "outputs": [
        {
          "output_type": "execute_result",
          "data": {
            "text/plain": [
              "┌────────────────────┐\n",
              "│   st_area(geom)    │\n",
              "│       double       │\n",
              "├────────────────────┤\n",
              "│ 1044614.5296485956 │\n",
              "└────────────────────┘"
            ]
          },
          "metadata": {},
          "execution_count": 28
        }
      ]
    },
    {
      "cell_type": "code",
      "source": [
        "# What is the geometry type of ‘Pelham St’? The length?\n",
        "con.sql(\"SELECT ST_GeometryType(geom) AS geom_type, name, geom from nyc_streets WHERE name = 'Pelham St';\")\n"
      ],
      "metadata": {
        "colab": {
          "base_uri": "https://localhost:8080/"
        },
        "id": "t90X8xhGZokT",
        "outputId": "6dc52eec-aa2b-4415-f1b8-cf34ac8238d3"
      },
      "execution_count": 29,
      "outputs": [
        {
          "output_type": "execute_result",
          "data": {
            "text/plain": [
              "┌──────────────────────┬───────────┬───────────────────────────────────────────────────────────────────────────────────┐\n",
              "│      geom_type       │   NAME    │                                       geom                                        │\n",
              "│ enum('point', 'lin…  │  varchar  │                                     geometry                                      │\n",
              "├──────────────────────┼───────────┼───────────────────────────────────────────────────────────────────────────────────┤\n",
              "│ LINESTRING           │ Pelham St │ LINESTRING (585323.7613806158 4507140.08120791, 585318.1174625934 4507190.08686…  │\n",
              "└──────────────────────┴───────────┴───────────────────────────────────────────────────────────────────────────────────┘"
            ]
          },
          "metadata": {},
          "execution_count": 29
        }
      ]
    },
    {
      "cell_type": "code",
      "source": [
        "con.sql(\"SELECT ST_Length(geom) AS geom_length, name from nyc_streets WHERE name = 'Pelham St';\")"
      ],
      "metadata": {
        "colab": {
          "base_uri": "https://localhost:8080/"
        },
        "id": "L3-fe2OLbAZq",
        "outputId": "10eb0592-e381-4f74-dfba-fdd54309d57e"
      },
      "execution_count": 30,
      "outputs": [
        {
          "output_type": "execute_result",
          "data": {
            "text/plain": [
              "┌───────────────────┬───────────┐\n",
              "│    geom_length    │   NAME    │\n",
              "│      double       │  varchar  │\n",
              "├───────────────────┼───────────┤\n",
              "│ 50.32314951660229 │ Pelham St │\n",
              "└───────────────────┴───────────┘"
            ]
          },
          "metadata": {},
          "execution_count": 30
        }
      ]
    },
    {
      "cell_type": "code",
      "source": [
        "# create a table from nyc_subway_stations shapefile in the database\n",
        "con.sql('CREATE TABLE IF NOT EXISTS nyc_subway_stations AS SELECT * FROM ST_Read(\"postgis-workshop/data/nyc_subway_stations.shp\");')\n",
        "\n",
        "con.sql('SELECT * from nyc_subway_stations LIMIT 3;')"
      ],
      "metadata": {
        "colab": {
          "base_uri": "https://localhost:8080/"
        },
        "id": "VgexqyQXbAci",
        "outputId": "6bff2e09-444e-462a-c592-cc85d57b4d0c"
      },
      "execution_count": 31,
      "outputs": [
        {
          "output_type": "execute_result",
          "data": {
            "text/plain": [
              "┌──────────┬────────┬──────────────┬──────────┬───┬───────────┬─────────┬─────────┬─────────┬──────────────────────┐\n",
              "│ OBJECTID │   ID   │     NAME     │ ALT_NAME │ … │ TRANSFERS │  COLOR  │ EXPRESS │ CLOSED  │         geom         │\n",
              "│  double  │ double │   varchar    │ varchar  │   │  varchar  │ varchar │ varchar │ varchar │       geometry       │\n",
              "├──────────┼────────┼──────────────┼──────────┼───┼───────────┼─────────┼─────────┼─────────┼──────────────────────┤\n",
              "│      1.0 │  376.0 │ Cortlandt St │ NULL     │ … │ R,W       │ YELLOW  │ NULL    │ NULL    │ POINT (583521.8544…  │\n",
              "│      2.0 │    2.0 │ Rector St    │ NULL     │ … │ 1         │ RED     │ NULL    │ NULL    │ POINT (583324.4866…  │\n",
              "│      3.0 │    1.0 │ South Ferry  │ NULL     │ … │ 1         │ RED     │ NULL    │ NULL    │ POINT (583304.1823…  │\n",
              "├──────────┴────────┴──────────────┴──────────┴───┴───────────┴─────────┴─────────┴─────────┴──────────────────────┤\n",
              "│ 3 rows                                                                                      15 columns (9 shown) │\n",
              "└──────────────────────────────────────────────────────────────────────────────────────────────────────────────────┘"
            ]
          },
          "metadata": {},
          "execution_count": 31
        }
      ]
    },
    {
      "cell_type": "code",
      "source": [
        "# What is the GeoJSON representation of ‘Broad St’ subway station?\n",
        "con.sql(\"SELECT ST_AsGeoJSON(geom), name FROM nyc_subway_stations WHERE name = 'Broad St';\")"
      ],
      "metadata": {
        "colab": {
          "base_uri": "https://localhost:8080/"
        },
        "id": "bIVv7pYfb0tb",
        "outputId": "f5a28822-b40d-4f66-dd96-6bd840c7bff3"
      },
      "execution_count": 32,
      "outputs": [
        {
          "output_type": "execute_result",
          "data": {
            "text/plain": [
              "┌──────────────────────────────────────────────────────────────────────┬──────────┐\n",
              "│                          st_asgeojson(geom)                          │   NAME   │\n",
              "│                               varchar                                │ varchar  │\n",
              "├──────────────────────────────────────────────────────────────────────┼──────────┤\n",
              "│ {\"type\":\"Point\",\"coordinates\":[583571.9059213118,4506714.341192182]} │ Broad St │\n",
              "└──────────────────────────────────────────────────────────────────────┴──────────┘"
            ]
          },
          "metadata": {},
          "execution_count": 32
        }
      ]
    },
    {
      "cell_type": "code",
      "source": [
        "con.sql(\"SELECT ST_Length(geom) / 1000 AS street_length_km, name from nyc_streets;\")"
      ],
      "metadata": {
        "colab": {
          "base_uri": "https://localhost:8080/"
        },
        "id": "d2zzBwNZefuF",
        "outputId": "fb86fdb8-45c8-438b-b0a8-7ffac45263c6"
      },
      "execution_count": 33,
      "outputs": [
        {
          "output_type": "execute_result",
          "data": {
            "text/plain": [
              "┌──────────────────────┬─────────────────┐\n",
              "│   street_length_km   │      NAME       │\n",
              "│        double        │     varchar     │\n",
              "├──────────────────────┼─────────────────┤\n",
              "│   0.7974398579946621 │ Shore Pky S     │\n",
              "│  0.14879975102119924 │ NULL            │\n",
              "│    2.312304024906042 │ Avenue O        │\n",
              "│  0.16039575340314952 │ Walsh Ct        │\n",
              "│   0.0877145235596008 │ NULL            │\n",
              "│   3.3619916036595883 │ Avenue Z        │\n",
              "│  0.17333277056192278 │ Dank Ct         │\n",
              "│  0.14735137946342827 │ Cumberland Walk │\n",
              "│  0.19715823234272525 │ Cumberland Walk │\n",
              "│ 0.024186507314031266 │ NULL            │\n",
              "│            ·         │  ·              │\n",
              "│            ·         │  ·              │\n",
              "│            ·         │  ·              │\n",
              "│    1.610084884554142 │ 90th Ave        │\n",
              "│  0.31142915293481516 │ 133rd Ave       │\n",
              "│   1.2715409645153237 │ Aberdeen Rd     │\n",
              "│  0.07416356832871748 │ Bonnie Ln       │\n",
              "│   0.2153371272826522 │ Phroane Ave     │\n",
              "│  0.20217578676797485 │ 186th Ln        │\n",
              "│    0.222220074446715 │ NULL            │\n",
              "│  0.03316768893455323 │ 23rd Rd         │\n",
              "│   0.2335251107822481 │ JFK EXPWY       │\n",
              "│ 0.013016351457638234 │ 116th Ave       │\n",
              "├──────────────────────┴─────────────────┤\n",
              "│     ? rows (>9999 rows, 20 shown)      │\n",
              "└────────────────────────────────────────┘"
            ]
          },
          "metadata": {},
          "execution_count": 33
        }
      ]
    },
    {
      "cell_type": "code",
      "source": [
        "# What is the total length of streets (in kilometers) in New York City?\n",
        "con.sql(\"SELECT sum(ST_Length(geom) / 1000) from nyc_streets;\")"
      ],
      "metadata": {
        "colab": {
          "base_uri": "https://localhost:8080/"
        },
        "id": "57yp3YR-b0zL",
        "outputId": "754025cb-9921-4854-9f70-0d908332640f"
      },
      "execution_count": 34,
      "outputs": [
        {
          "output_type": "execute_result",
          "data": {
            "text/plain": [
              "┌───────────────────────────────┐\n",
              "│ sum((st_length(geom) / 1000)) │\n",
              "│            double             │\n",
              "├───────────────────────────────┤\n",
              "│            10418.265759654627 │\n",
              "└───────────────────────────────┘"
            ]
          },
          "metadata": {},
          "execution_count": 34
        }
      ]
    },
    {
      "cell_type": "code",
      "source": [
        "# What is the area of Manhattan in acres? (using nyc_census_blocks table)\n",
        "con.sql('CREATE TABLE IF NOT EXISTS nyc_census_blocks AS SELECT * FROM ST_Read(\"postgis-workshop/data/nyc_census_blocks.shp\");')\n",
        "\n",
        "con.sql(\"SELECT sum(ST_Area(geom) / 4047) FROM nyc_census_blocks WHERE BORONAME = 'Manhattan';\")"
      ],
      "metadata": {
        "colab": {
          "base_uri": "https://localhost:8080/"
        },
        "id": "Xha-vBSrefOu",
        "outputId": "137bb23b-4706-4708-e50a-de4aba4381c3"
      },
      "execution_count": 35,
      "outputs": [
        {
          "output_type": "execute_result",
          "data": {
            "text/plain": [
              "┌─────────────────────────────┐\n",
              "│ sum((st_area(geom) / 4047)) │\n",
              "│           double            │\n",
              "├─────────────────────────────┤\n",
              "│          14601.398721554813 │\n",
              "└─────────────────────────────┘"
            ]
          },
          "metadata": {},
          "execution_count": 35
        }
      ]
    },
    {
      "cell_type": "code",
      "source": [
        "# What is the area of Manhattan in acres? (using nyc_neighborhoods table)\n",
        "con.sql(\"SELECT sum(ST_Area(geom) / 4047) FROM nyc_neighborhoods WHERE BORONAME = 'Manhattan';\")"
      ],
      "metadata": {
        "colab": {
          "base_uri": "https://localhost:8080/"
        },
        "id": "X12obuUvb02u",
        "outputId": "b9c8fda8-70d5-4567-84e8-5fcb5a1bd4cc"
      },
      "execution_count": 36,
      "outputs": [
        {
          "output_type": "execute_result",
          "data": {
            "text/plain": [
              "┌─────────────────────────────┐\n",
              "│ sum((st_area(geom) / 4047)) │\n",
              "│           double            │\n",
              "├─────────────────────────────┤\n",
              "│          13965.320122391191 │\n",
              "└─────────────────────────────┘"
            ]
          },
          "metadata": {},
          "execution_count": 36
        }
      ]
    },
    {
      "cell_type": "code",
      "source": [
        "# What is the most westerly subway station?\n",
        "con.sql('DESCRIBE nyc_subway_stations;')\n"
      ],
      "metadata": {
        "colab": {
          "base_uri": "https://localhost:8080/"
        },
        "id": "SEwOc9CAbAfK",
        "outputId": "cf17a96d-c768-4836-9276-73a919dab723"
      },
      "execution_count": 37,
      "outputs": [
        {
          "output_type": "execute_result",
          "data": {
            "text/plain": [
              "┌─────────────┬─────────────┬─────────┬─────────┬─────────┬───────┐\n",
              "│ column_name │ column_type │  null   │   key   │ default │ extra │\n",
              "│   varchar   │   varchar   │ varchar │ varchar │ varchar │ int32 │\n",
              "├─────────────┼─────────────┼─────────┼─────────┼─────────┼───────┤\n",
              "│ OBJECTID    │ DOUBLE      │ YES     │ NULL    │ NULL    │  NULL │\n",
              "│ ID          │ DOUBLE      │ YES     │ NULL    │ NULL    │  NULL │\n",
              "│ NAME        │ VARCHAR     │ YES     │ NULL    │ NULL    │  NULL │\n",
              "│ ALT_NAME    │ VARCHAR     │ YES     │ NULL    │ NULL    │  NULL │\n",
              "│ CROSS_ST    │ VARCHAR     │ YES     │ NULL    │ NULL    │  NULL │\n",
              "│ LONG_NAME   │ VARCHAR     │ YES     │ NULL    │ NULL    │  NULL │\n",
              "│ LABEL       │ VARCHAR     │ YES     │ NULL    │ NULL    │  NULL │\n",
              "│ BOROUGH     │ VARCHAR     │ YES     │ NULL    │ NULL    │  NULL │\n",
              "│ NGHBHD      │ VARCHAR     │ YES     │ NULL    │ NULL    │  NULL │\n",
              "│ ROUTES      │ VARCHAR     │ YES     │ NULL    │ NULL    │  NULL │\n",
              "│ TRANSFERS   │ VARCHAR     │ YES     │ NULL    │ NULL    │  NULL │\n",
              "│ COLOR       │ VARCHAR     │ YES     │ NULL    │ NULL    │  NULL │\n",
              "│ EXPRESS     │ VARCHAR     │ YES     │ NULL    │ NULL    │  NULL │\n",
              "│ CLOSED      │ VARCHAR     │ YES     │ NULL    │ NULL    │  NULL │\n",
              "│ geom        │ GEOMETRY    │ YES     │ NULL    │ NULL    │  NULL │\n",
              "├─────────────┴─────────────┴─────────┴─────────┴─────────┴───────┤\n",
              "│ 15 rows                                               6 columns │\n",
              "└─────────────────────────────────────────────────────────────────┘"
            ]
          },
          "metadata": {},
          "execution_count": 37
        }
      ]
    },
    {
      "cell_type": "code",
      "source": [
        "# What is the most westerly subway station?\n",
        "con.sql('SELECT ST_X(geom), name from nyc_subway_stations ORDER BY ST_X(geom) LIMIT 1;')"
      ],
      "metadata": {
        "colab": {
          "base_uri": "https://localhost:8080/"
        },
        "id": "PbICJ8Skh6q3",
        "outputId": "0a48c61e-127c-4cc6-ba87-82e3e2bbc569"
      },
      "execution_count": 38,
      "outputs": [
        {
          "output_type": "execute_result",
          "data": {
            "text/plain": [
              "┌───────────────────┬─────────────┐\n",
              "│    st_x(geom)     │    NAME     │\n",
              "│      double       │   varchar   │\n",
              "├───────────────────┼─────────────┤\n",
              "│ 563292.1172580556 │ Tottenville │\n",
              "└───────────────────┴─────────────┘"
            ]
          },
          "metadata": {},
          "execution_count": 38
        }
      ]
    },
    {
      "cell_type": "code",
      "source": [
        "# What is the most easterly subway station?\n",
        "con.sql('SELECT ST_X(geom), name from nyc_subway_stations ORDER BY ST_X(geom) DESC LIMIT 1;')"
      ],
      "metadata": {
        "colab": {
          "base_uri": "https://localhost:8080/"
        },
        "id": "TU8k76D_mEmJ",
        "outputId": "013aa23f-d99a-43bb-dfca-f88f1dc2762f"
      },
      "execution_count": 39,
      "outputs": [
        {
          "output_type": "execute_result",
          "data": {
            "text/plain": [
              "┌───────────────────┬──────────────┐\n",
              "│    st_x(geom)     │     NAME     │\n",
              "│      double       │   varchar    │\n",
              "├───────────────────┼──────────────┤\n",
              "│ 605412.4548804507 │ Far Rockaway │\n",
              "└───────────────────┴──────────────┘"
            ]
          },
          "metadata": {},
          "execution_count": 39
        }
      ]
    },
    {
      "cell_type": "markdown",
      "source": [
        "## Spatial Relationships"
      ],
      "metadata": {
        "id": "dNwKupVcmW7B"
      }
    },
    {
      "cell_type": "code",
      "source": [
        "con.sql(\"SELECT * from nyc_subway_stations;\")"
      ],
      "metadata": {
        "colab": {
          "base_uri": "https://localhost:8080/"
        },
        "id": "06n5OPorm4RM",
        "outputId": "f4687aba-aebf-421e-9274-e2ca9c486a68"
      },
      "execution_count": 40,
      "outputs": [
        {
          "output_type": "execute_result",
          "data": {
            "text/plain": [
              "┌──────────┬────────┬───────────────────┬───┬──────────────┬─────────┬─────────┬──────────────────────┐\n",
              "│ OBJECTID │   ID   │       NAME        │ … │    COLOR     │ EXPRESS │ CLOSED  │         geom         │\n",
              "│  double  │ double │      varchar      │   │   varchar    │ varchar │ varchar │       geometry       │\n",
              "├──────────┼────────┼───────────────────┼───┼──────────────┼─────────┼─────────┼──────────────────────┤\n",
              "│      1.0 │  376.0 │ Cortlandt St      │ … │ YELLOW       │ NULL    │ NULL    │ POINT (583521.8544…  │\n",
              "│      2.0 │    2.0 │ Rector St         │ … │ RED          │ NULL    │ NULL    │ POINT (583324.4866…  │\n",
              "│      3.0 │    1.0 │ South Ferry       │ … │ RED          │ NULL    │ NULL    │ POINT (583304.1823…  │\n",
              "│      4.0 │  125.0 │ 138th St          │ … │ GREEN        │ NULL    │ NULL    │ POINT (590250.1059…  │\n",
              "│      5.0 │  126.0 │ 149th St          │ … │ GREEN        │ express │ NULL    │ POINT (590454.7399…  │\n",
              "│      6.0 │   45.0 │ 149th St          │ … │ RED-GREEN    │ express │ NULL    │ POINT (590465.8934…  │\n",
              "│      7.0 │  127.0 │ 161st St          │ … │ GREEN-ORANGE │ NULL    │ NULL    │ POINT (590573.1694…  │\n",
              "│      8.0 │  208.0 │ 167th St          │ … │ ORANGE       │ NULL    │ NULL    │ POINT (591252.8314…  │\n",
              "│      9.0 │  128.0 │ 167th St          │ … │ GREEN        │ NULL    │ NULL    │ POINT (590946.3972…  │\n",
              "│     10.0 │  209.0 │ 170th St          │ … │ ORANGE       │ NULL    │ NULL    │ POINT (591583.6111…  │\n",
              "│       ·  │     ·  │    ·              │ · │  ·           │  ·      │  ·      │          ·           │\n",
              "│       ·  │     ·  │    ·              │ · │  ·           │  ·      │  ·      │          ·           │\n",
              "│       ·  │     ·  │    ·              │ · │  ·           │  ·      │  ·      │          ·           │\n",
              "│    481.0 │   99.0 │ Times Sq          │ … │ RED          │ express │ NULL    │ POINT (585513.1770…  │\n",
              "│    482.0 │  904.0 │ JFK Terminal 1    │ … │ AIR-BLUE     │ NULL    │ NULL    │ POINT (602356.9561…  │\n",
              "│    483.0 │  905.0 │ JFK Terminal 2-3  │ … │ AIR-BLUE     │ NULL    │ NULL    │ POINT (602526.1125…  │\n",
              "│    484.0 │  906.0 │ JFK Terminal 4    │ … │ AIR-BLUE     │ NULL    │ NULL    │ POINT (602985.6731…  │\n",
              "│    485.0 │  907.0 │ JFK Terminal 5-6  │ … │ AIR-BLUE     │ NULL    │ NULL    │ POINT (603245.7503…  │\n",
              "│    486.0 │  908.0 │ JFK Terminal 7    │ … │ AIR-BLUE     │ NULL    │ NULL    │ POINT (602880.3266…  │\n",
              "│    487.0 │  909.0 │ JFK Terminal 8    │ … │ AIR-BLUE     │ NULL    │ NULL    │ POINT (602433.3533…  │\n",
              "│    488.0 │  903.0 │ Federal Circle    │ … │ AIR-BLUE     │ NULL    │ NULL    │ POINT (600903.1428…  │\n",
              "│    489.0 │  902.0 │ Long Term Parking │ … │ AIR-BLUE     │ NULL    │ NULL    │ POINT (599552.1129…  │\n",
              "│    490.0 │  901.0 │ Howard Beach      │ … │ AIR-BLUE     │ NULL    │ NULL    │ POINT (598862.0205…  │\n",
              "├──────────┴────────┴───────────────────┴───┴──────────────┴─────────┴─────────┴──────────────────────┤\n",
              "│ 490 rows (20 shown)                                                            15 columns (7 shown) │\n",
              "└─────────────────────────────────────────────────────────────────────────────────────────────────────┘"
            ]
          },
          "metadata": {},
          "execution_count": 40
        }
      ]
    },
    {
      "cell_type": "code",
      "source": [
        "# What is geometry of Broad Street subway station?\n",
        "con.sql(\"SELECT geom, name from nyc_subway_stations WHERE name = 'Broad St';\")"
      ],
      "metadata": {
        "colab": {
          "base_uri": "https://localhost:8080/"
        },
        "id": "Bjx2oYSinVjv",
        "outputId": "1a70b3a6-b178-4f4a-93b9-f1526f8ab20d"
      },
      "execution_count": 41,
      "outputs": [
        {
          "output_type": "execute_result",
          "data": {
            "text/plain": [
              "┌─────────────────────────────────────────────┬──────────┐\n",
              "│                    geom                     │   NAME   │\n",
              "│                  geometry                   │ varchar  │\n",
              "├─────────────────────────────────────────────┼──────────┤\n",
              "│ POINT (583571.9059213118 4506714.341192182) │ Broad St │\n",
              "└─────────────────────────────────────────────┴──────────┘"
            ]
          },
          "metadata": {},
          "execution_count": 41
        }
      ]
    },
    {
      "cell_type": "code",
      "source": [
        "# What is geometry of Broad Street subway station?\n",
        "con.sql(\"SELECT ST_GeometryType(geom), geom, name from nyc_subway_stations WHERE name = 'Broad St';\")"
      ],
      "metadata": {
        "colab": {
          "base_uri": "https://localhost:8080/"
        },
        "id": "7Xdbu7NGgamK",
        "outputId": "814d0627-0138-488f-f4aa-2b12ad8f1088"
      },
      "execution_count": null,
      "outputs": [
        {
          "output_type": "execute_result",
          "data": {
            "text/plain": [
              "┌─────────────────────────────────────────────────────────────┬─────────────────────────────────────────────┬──────────┐\n",
              "│                    st_geometrytype(geom)                    │                    geom                     │   NAME   │\n",
              "│ enum('point', 'linestring', 'polygon', 'multipoint', 'mul…  │                  geometry                   │ varchar  │\n",
              "├─────────────────────────────────────────────────────────────┼─────────────────────────────────────────────┼──────────┤\n",
              "│ POINT                                                       │ POINT (583571.9059213118 4506714.341192182) │ Broad St │\n",
              "└─────────────────────────────────────────────────────────────┴─────────────────────────────────────────────┴──────────┘"
            ]
          },
          "metadata": {},
          "execution_count": 140
        }
      ]
    },
    {
      "cell_type": "code",
      "source": [
        "con.sql(\"SELECT typeof(geom) from nyc_subway_stations WHERE name = 'Broad St';\")"
      ],
      "metadata": {
        "colab": {
          "base_uri": "https://localhost:8080/"
        },
        "id": "pc0aY9j0oT1I",
        "outputId": "4536c1ee-ffb5-477b-e323-93a84465c731"
      },
      "execution_count": null,
      "outputs": [
        {
          "output_type": "execute_result",
          "data": {
            "text/plain": [
              "┌──────────────┐\n",
              "│ typeof(geom) │\n",
              "│   varchar    │\n",
              "├──────────────┤\n",
              "│ GEOMETRY     │\n",
              "└──────────────┘"
            ]
          },
          "metadata": {},
          "execution_count": 152
        }
      ]
    },
    {
      "cell_type": "code",
      "source": [
        "# What is the well-known binary (WKB) of Broad Street subway station?\n",
        "con.sql(\"SELECT ST_AsHEXWKB(geom) from nyc_subway_stations WHERE name = 'Broad St';\")"
      ],
      "metadata": {
        "colab": {
          "base_uri": "https://localhost:8080/"
        },
        "id": "SIMbvIy6pmzI",
        "outputId": "f5419481-3cf9-46a4-dd08-bcfc19e01b76"
      },
      "execution_count": null,
      "outputs": [
        {
          "output_type": "execute_result",
          "data": {
            "text/plain": [
              "┌────────────────────────────────────────────┐\n",
              "│             st_ashexwkb(geom)              │\n",
              "│                  varchar                   │\n",
              "├────────────────────────────────────────────┤\n",
              "│ 01010000000EEBD4CF27CF2141BC17D69516315141 │\n",
              "└────────────────────────────────────────────┘"
            ]
          },
          "metadata": {},
          "execution_count": 162
        }
      ]
    },
    {
      "cell_type": "code",
      "source": [
        "# What subway station record matches that geometry?\n",
        "con.sql(\"SELECT name from nyc_subway_stations WHERE ST_Equals(geom, ST_GeomFromHEXWKB('01010000000EEBD4CF27CF2141BC17D69516315141'));\")"
      ],
      "metadata": {
        "colab": {
          "base_uri": "https://localhost:8080/"
        },
        "id": "ePmptTdwgao1",
        "outputId": "dbf3c5d6-833a-4ae4-cb80-4e52b90691c9"
      },
      "execution_count": null,
      "outputs": [
        {
          "output_type": "execute_result",
          "data": {
            "text/plain": [
              "┌──────────┐\n",
              "│   NAME   │\n",
              "│ varchar  │\n",
              "├──────────┤\n",
              "│ Broad St │\n",
              "└──────────┘"
            ]
          },
          "metadata": {},
          "execution_count": 163
        }
      ]
    },
    {
      "cell_type": "code",
      "source": [
        "# What is the well-known text (WKT) of Broad Street subway station?\n",
        "con.sql(\"SELECT ST_AsText(geom) from nyc_subway_stations WHERE name = 'Broad St';\")"
      ],
      "metadata": {
        "colab": {
          "base_uri": "https://localhost:8080/"
        },
        "id": "4z9bywG1garN",
        "outputId": "0e5deb9e-26a9-4a61-8687-804ad54f95ec"
      },
      "execution_count": null,
      "outputs": [
        {
          "output_type": "execute_result",
          "data": {
            "text/plain": [
              "┌─────────────────────────────────────────────┐\n",
              "│               st_astext(geom)               │\n",
              "│                   varchar                   │\n",
              "├─────────────────────────────────────────────┤\n",
              "│ POINT (583571.9059213118 4506714.341192182) │\n",
              "└─────────────────────────────────────────────┘"
            ]
          },
          "metadata": {},
          "execution_count": 168
        }
      ]
    },
    {
      "cell_type": "code",
      "source": [
        "# What is the type of well-known text (WKT) of Broad Street subway station?\n",
        "con.sql(\"SELECT typeof(ST_AsText(geom)) from nyc_subway_stations WHERE name = 'Broad St';\")"
      ],
      "metadata": {
        "colab": {
          "base_uri": "https://localhost:8080/"
        },
        "id": "wttJ7J5ngatO",
        "outputId": "49150d9d-e87d-41bf-a072-6e17e65c66c1"
      },
      "execution_count": null,
      "outputs": [
        {
          "output_type": "execute_result",
          "data": {
            "text/plain": [
              "┌─────────────────────────┐\n",
              "│ typeof(st_astext(geom)) │\n",
              "│         varchar         │\n",
              "├─────────────────────────┤\n",
              "│ VARCHAR                 │\n",
              "└─────────────────────────┘"
            ]
          },
          "metadata": {},
          "execution_count": 169
        }
      ]
    },
    {
      "cell_type": "code",
      "source": [
        "con.sql(\"SELECT * from nyc_neighborhoods;\")"
      ],
      "metadata": {
        "colab": {
          "base_uri": "https://localhost:8080/"
        },
        "id": "iBlScr7zrPCR",
        "outputId": "fcc9a9c2-4a19-41d9-c346-c22682f0af31"
      },
      "execution_count": null,
      "outputs": [
        {
          "output_type": "execute_result",
          "data": {
            "text/plain": [
              "┌───────────────┬──────────────────────┬───────────────────────────────────────────────────────────────────────────────┐\n",
              "│   BORONAME    │         NAME         │                                     geom                                      │\n",
              "│    varchar    │       varchar        │                                   geometry                                    │\n",
              "├───────────────┼──────────────────────┼───────────────────────────────────────────────────────────────────────────────┤\n",
              "│ Brooklyn      │ Bensonhurst          │ POLYGON ((582771.4257198056 4495167.427365481, 584651.2943549604 4497541.64…  │\n",
              "│ Manhattan     │ East Village         │ POLYGON ((585508.7534890148 4509691.267208001, 586826.3570590394 4508984.18…  │\n",
              "│ Manhattan     │ West Village         │ POLYGON ((583263.2776595836 4509242.626023987, 583276.8199068634 4509378.82…  │\n",
              "│ The Bronx     │ Throggs Neck         │ POLYGON ((597640.0090688139 4520272.719938631, 597647.7457808304 4520617.82…  │\n",
              "│ The Bronx     │ Wakefield-Williams…  │ POLYGON ((595285.2053417757 4525938.79838847, 595348.5452399419 4526158.776…  │\n",
              "│ Queens        │ Auburndale           │ POLYGON ((600973.0089608189 4510338.8574458575, 601002.162100491 4510743.04…  │\n",
              "│ Manhattan     │ Battery Park         │ POLYGON ((583408.1010054761 4508093.1107926965, 583356.0476085746 4507665.1…  │\n",
              "│ Manhattan     │ Carnegie Hill        │ POLYGON ((588501.208387079 4515525.879866604, 588125.0295366715 4514806.769…  │\n",
              "│ Staten Island │ Mariners Harbor      │ POLYGON ((570300.1080794979 4497031.156416456, 570393.8363765916 4497227.42…  │\n",
              "│ Staten Island │ Rossville            │ POLYGON ((564664.9567825551 4489358.426550738, 564771.4570512844 4489415.86…  │\n",
              "│     ·         │     ·                │                                       ·                                       │\n",
              "│     ·         │     ·                │                                       ·                                       │\n",
              "│     ·         │     ·                │                                       ·                                       │\n",
              "│ Manhattan     │ Yorkville            │ POLYGON ((589221.3042189671 4515275.918404947, 589137.4128152014 4515181.03…  │\n",
              "│ Manhattan     │ Chinatown            │ POLYGON ((584212.0263544542 4507715.994306428, 584418.5960554194 4508039.30…  │\n",
              "│ Queens        │ Bayside              │ MULTIPOLYGON (((602775.3139520675 4516699.252888854, 602773.8062540573 4516…  │\n",
              "│ Brooklyn      │ Coney Island         │ MULTIPOLYGON (((586797.2142308942 4491782.743200868, 586797.6993674854 4491…  │\n",
              "│ Queens        │ Corona               │ POLYGON ((595483.2191909261 4513816.729664179, 595482.9622063976 4513818.69…  │\n",
              "│ Brooklyn      │ Red Hook             │ MULTIPOLYGON (((584212.898102789 4502321.474446659, 584306.8204918649 45023…  │\n",
              "│ Queens        │ Douglastown-Little…  │ POLYGON ((605082.2876993549 4513540.148431633, 605091.565767156 4513533.146…  │\n",
              "│ Queens        │ Whitestone           │ MULTIPOLYGON (((600138.4932375996 4516909.499424748, 600138.4432112409 4516…  │\n",
              "│ Queens        │ Steinway             │ MULTIPOLYGON (((593231.5525230656 4515088.539060092, 593306.6081032692 4515…  │\n",
              "│ Staten Island │ Rosebank             │ POLYGON ((579051.0303273386 4495284.647006003, 579062.1215490546 4495347.57…  │\n",
              "├───────────────┴──────────────────────┴───────────────────────────────────────────────────────────────────────────────┤\n",
              "│ 129 rows (20 shown)                                                                                        3 columns │\n",
              "└──────────────────────────────────────────────────────────────────────────────────────────────────────────────────────┘"
            ]
          },
          "metadata": {},
          "execution_count": 171
        }
      ]
    },
    {
      "cell_type": "code",
      "source": [
        "# What neighborhood intersects that subway station?\n",
        "con.sql(\"SELECT name, boroname  from nyc_neighborhoods WHERE ST_Intersects(geom, ST_GeomFromHEXWKB('01010000000EEBD4CF27CF2141BC17D69516315141'));\")\n"
      ],
      "metadata": {
        "colab": {
          "base_uri": "https://localhost:8080/"
        },
        "id": "OE50R5E-S8xg",
        "outputId": "8a72cd83-a793-4c1a-bf68-e0c8f0b3d806"
      },
      "execution_count": null,
      "outputs": [
        {
          "output_type": "execute_result",
          "data": {
            "text/plain": [
              "┌────────────────────┬───────────┐\n",
              "│        NAME        │ BORONAME  │\n",
              "│      varchar       │  varchar  │\n",
              "├────────────────────┼───────────┤\n",
              "│ Financial District │ Manhattan │\n",
              "└────────────────────┴───────────┘"
            ]
          },
          "metadata": {},
          "execution_count": 181
        }
      ]
    },
    {
      "cell_type": "code",
      "source": [
        "# What streets are within 10 meters of Broad Street subway station?\n",
        "\n",
        "con.sql(\"SELECT name from nyc_streets WHERE ST_DWithin(geom, ST_GeomFromHEXWKB('01010000000EEBD4CF27CF2141BC17D69516315141'), 10);\")\n"
      ],
      "metadata": {
        "colab": {
          "base_uri": "https://localhost:8080/"
        },
        "id": "BoYOn75Jtous",
        "outputId": "d8b52829-b50f-4b80-e6a6-20125daa8a76"
      },
      "execution_count": null,
      "outputs": [
        {
          "output_type": "execute_result",
          "data": {
            "text/plain": [
              "┌───────────┐\n",
              "│   NAME    │\n",
              "│  varchar  │\n",
              "├───────────┤\n",
              "│ Wall St   │\n",
              "│ Broad St  │\n",
              "│ Nassau St │\n",
              "└───────────┘"
            ]
          },
          "metadata": {},
          "execution_count": 182
        }
      ]
    },
    {
      "cell_type": "code",
      "source": [
        "# What streets are within 10 meters of Broad Street subway station? (second method)\n",
        "con.sql(\"SELECT name from nyc_streets WHERE ST_DWithin(geom, ST_GeomFromText('POINT(583571.9059213118 4506714.341192182)'), 10);\")"
      ],
      "metadata": {
        "colab": {
          "base_uri": "https://localhost:8080/"
        },
        "id": "XGPcapUitoxp",
        "outputId": "b6393123-5a2e-42da-9b0e-3f51a25865ab"
      },
      "execution_count": null,
      "outputs": [
        {
          "output_type": "execute_result",
          "data": {
            "text/plain": [
              "┌───────────┐\n",
              "│   NAME    │\n",
              "│  varchar  │\n",
              "├───────────┤\n",
              "│ Wall St   │\n",
              "│ Broad St  │\n",
              "│ Nassau St │\n",
              "└───────────┘"
            ]
          },
          "metadata": {},
          "execution_count": 187
        }
      ]
    },
    {
      "cell_type": "code",
      "source": [
        "# What is the well-known text for the street 'Atlantic Commons'?\n",
        "con.sql(\"SELECT ST_AsText(geom) from nyc_streets WHERE name = 'Atlantic Commons';\")"
      ],
      "metadata": {
        "colab": {
          "base_uri": "https://localhost:8080/"
        },
        "id": "2Vv_yGLQqbPB",
        "outputId": "c0469685-cc88-45d4-c577-c25f764db4e6"
      },
      "execution_count": null,
      "outputs": [
        {
          "output_type": "execute_result",
          "data": {
            "text/plain": [
              "┌───────────────────────────────────────────────────────────────────────────────────────┐\n",
              "│                                    st_astext(geom)                                    │\n",
              "│                                        varchar                                        │\n",
              "├───────────────────────────────────────────────────────────────────────────────────────┤\n",
              "│ LINESTRING (586781.7015777241 4504202.153143394, 586863.5196448397 4504215.988170098) │\n",
              "└───────────────────────────────────────────────────────────────────────────────────────┘"
            ]
          },
          "metadata": {},
          "execution_count": 188
        }
      ]
    },
    {
      "cell_type": "code",
      "source": [
        "# What neighborhood and borough is 'POINT(586782 4504202)' in?\n",
        "con.sql(\"SELECT BORONAME, NAME FROM nyc_neighborhoods WHERE ST_Intersects(ST_GeomFromText('POINT(583571.9059213118 4506714.341192182)'), geom);\")"
      ],
      "metadata": {
        "colab": {
          "base_uri": "https://localhost:8080/"
        },
        "id": "6n8-nZuWqbRu",
        "outputId": "6b8cac81-8cc0-4161-a8c6-b53cf8aa9b64"
      },
      "execution_count": null,
      "outputs": [
        {
          "output_type": "execute_result",
          "data": {
            "text/plain": [
              "┌───────────┬────────────────────┐\n",
              "│ BORONAME  │        NAME        │\n",
              "│  varchar  │      varchar       │\n",
              "├───────────┼────────────────────┤\n",
              "│ Manhattan │ Financial District │\n",
              "└───────────┴────────────────────┘"
            ]
          },
          "metadata": {},
          "execution_count": 204
        }
      ]
    },
    {
      "cell_type": "code",
      "source": [
        "# How many people live within 50 meters of 'POINT(586782 4504202)'?\n",
        "\n",
        "con.sql(\"SELECT Sum(POPN_TOTAL) FROM nyc_census_blocks WHERE ST_DWithin(ST_GeomFromText('POINT(586782 4504202)'), geom, 50);\")"
      ],
      "metadata": {
        "id": "H5w_wqWpqbUU",
        "colab": {
          "base_uri": "https://localhost:8080/"
        },
        "outputId": "89be7632-6929-4a60-a68b-32bf5b56f964"
      },
      "execution_count": 51,
      "outputs": [
        {
          "output_type": "execute_result",
          "data": {
            "text/plain": [
              "┌─────────────────┐\n",
              "│ sum(POPN_TOTAL) │\n",
              "│     int128      │\n",
              "├─────────────────┤\n",
              "│             896 │\n",
              "└─────────────────┘"
            ]
          },
          "metadata": {},
          "execution_count": 51
        }
      ]
    },
    {
      "cell_type": "code",
      "source": [
        "con.sql(\"SELECT * FROM nyc_streets WHERE name = 'Columbus Cir';\")"
      ],
      "metadata": {
        "id": "Nn2VBe6xqbWi",
        "colab": {
          "base_uri": "https://localhost:8080/"
        },
        "outputId": "c624f293-8a60-4e03-898c-dcd85cfb1ef8"
      },
      "execution_count": 57,
      "outputs": [
        {
          "output_type": "execute_result",
          "data": {
            "text/plain": [
              "┌───────┬──────────────┬─────────┬─────────┬───────────────────────────────────────────────────────────────────────────┐\n",
              "│  ID   │     NAME     │ ONEWAY  │  TYPE   │                                   geom                                    │\n",
              "│ int64 │   varchar    │ varchar │ varchar │                                 geometry                                  │\n",
              "├───────┼──────────────┼─────────┼─────────┼───────────────────────────────────────────────────────────────────────────┤\n",
              "│ 18686 │ Columbus Cir │ yes     │ primary │ LINESTRING (585880.4300287147 4513529.824197933, 585883.3962299527 4513…  │\n",
              "└───────┴──────────────┴─────────┴─────────┴───────────────────────────────────────────────────────────────────────────┘"
            ]
          },
          "metadata": {},
          "execution_count": 57
        }
      ]
    },
    {
      "cell_type": "code",
      "source": [
        "# How far apart are 'Columbus Cir' and 'Fulton Ave'?\n",
        "con.sql(\"SELECT ST_Distance(a.geom, b.geom) FROM nyc_streets a , nyc_streets b WHERE a.name = 'Fulton Ave' AND b.name = 'Columbus Cir';\")"
      ],
      "metadata": {
        "colab": {
          "base_uri": "https://localhost:8080/"
        },
        "id": "5p3SS1ErVJ50",
        "outputId": "fa4e6e7b-9ec0-4b48-c02b-dfac44a90c1e"
      },
      "execution_count": 56,
      "outputs": [
        {
          "output_type": "execute_result",
          "data": {
            "text/plain": [
              "┌─────────────────────────────┐\n",
              "│ st_distance(a.geom, b.geom) │\n",
              "│           double            │\n",
              "├─────────────────────────────┤\n",
              "│           9184.786200076896 │\n",
              "└─────────────────────────────┘"
            ]
          },
          "metadata": {},
          "execution_count": 56
        }
      ]
    },
    {
      "cell_type": "markdown",
      "source": [
        "## Spatial Joins"
      ],
      "metadata": {
        "id": "3172tlXVXTFr"
      }
    },
    {
      "cell_type": "code",
      "source": [],
      "metadata": {
        "id": "6onXUgQ0XTNc"
      },
      "execution_count": null,
      "outputs": []
    },
    {
      "cell_type": "code",
      "source": [],
      "metadata": {
        "id": "qcq7DgBWXTS7"
      },
      "execution_count": null,
      "outputs": []
    },
    {
      "cell_type": "code",
      "source": [],
      "metadata": {
        "id": "ZB1cmY6PXTVy"
      },
      "execution_count": null,
      "outputs": []
    },
    {
      "cell_type": "code",
      "source": [],
      "metadata": {
        "id": "L3Bct0QFXTX6"
      },
      "execution_count": null,
      "outputs": []
    },
    {
      "cell_type": "code",
      "source": [],
      "metadata": {
        "id": "tR4BUTyyVJ-j"
      },
      "execution_count": null,
      "outputs": []
    },
    {
      "cell_type": "markdown",
      "source": [
        "## Resources:\n",
        "\n",
        "* [Presentation Deck of PostGIS workshop](https://docs.google.com/presentation/d/1qYXdeCIymLl32uoAHvAPrp1r-hK-_4Z8InG7sHEo6vc/edit)\n",
        "\n",
        "* [download and unzip in GColab](https://buomsoo-kim.github.io/colab/2020/05/04/Colab-downloading-files-from-web-2.md/)\n",
        "\n",
        "* [Reprojection of geometry column in duckdb](https://tech.marksblogg.com/duckdb-gis-spatial-extension.html)\n",
        "\n"
      ],
      "metadata": {
        "id": "Sq7Ho9upAP9F"
      }
    }
  ]
}